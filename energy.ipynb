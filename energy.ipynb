{
 "metadata": {
  "language_info": {
   "codemirror_mode": {
    "name": "ipython",
    "version": 3
   },
   "file_extension": ".py",
   "mimetype": "text/x-python",
   "name": "python",
   "nbconvert_exporter": "python",
   "pygments_lexer": "ipython3",
   "version": "3.9.1-final"
  },
  "orig_nbformat": 2,
  "kernelspec": {
   "name": "python3",
   "display_name": "Python 3.9.1 64-bit",
   "metadata": {
    "interpreter": {
     "hash": "63fd5069d213b44bf678585dea6b12cceca9941eaf7f819626cde1f2670de90d"
    }
   }
  }
 },
 "nbformat": 4,
 "nbformat_minor": 2,
 "cells": [
  {
   "source": [
    "# Final project Scientific Programming with Python\n",
    "#### By itamar yarden  - 204289987"
   ],
   "cell_type": "markdown",
   "metadata": {}
  },
  {
   "source": [
    "## Installation and import in order to use this program\n"
   ],
   "cell_type": "markdown",
   "metadata": {}
  },
  {
   "cell_type": "code",
   "execution_count": 27,
   "metadata": {},
   "outputs": [],
   "source": [
    "#!pip install numpy\n",
    "#!pip install pandas\n",
    "#!pip install seaborn\n",
    "#!pip install matplotlib\n",
    "#!pip install seaborn\n",
    "#!pip install sklearn\n",
    "#!pip install scipy\n",
    "#!pip install pydotplus\n",
    "\n",
    "import numpy as np\n",
    "import matplotlib.pyplot as plt\n",
    "import seaborn as sns\n",
    "import pandas as pd\n",
    "from sklearn.naive_bayes import GaussianNB\n",
    "import sklearn as skl\n",
    "from sklearn.model_selection import train_test_split # Import train_test_split function\n",
    "from sklearn import metrics #Import scikit-learn metrics module for accuracy calculation\n",
    "import pydotplus\n"
   ]
  },
  {
   "source": [
    "## Task 1 - Intro\n",
    "\n",
    "In this section I will review the data, explain and analyse the different usages of its features.\n",
    "\n"
   ],
   "cell_type": "markdown",
   "metadata": {}
  },
  {
   "source": [
    "#### Overview  \n",
    "\n",
    "The dataset for this project is about different types of energy, thier costs due to different usages and different environments. In order to collect the data we can see that the researchers had to it over a long period of time (10 years), testing all kinds of parameters (14). \n",
    "\n",
    "\n",
    "\n",
    "\n",
    "\n",
    " \n",
    " "
   ],
   "cell_type": "markdown",
   "metadata": {}
  },
  {
   "source": [
    "#### Features\n",
    "\n",
    "Now I will explore the features, thier types, and values. for this I will seperate them into categorical and numerical featues.\n",
    "\n",
    "- Measure: it is used as an index, each measure specifies a specific observation of some building in a specific district at a specific time(year and month), therefore each measure has a uinique value. It is noted with  integer.\n",
    "\n",
    "#### Categorical features:\n",
    "\n",
    "- Month: The month the observation was made at, this value is ordinal because we can arrange month in an inner order from 1 to 12.\n",
    "\n",
    "- Sector: This parameter denotes the sector the observation belongs to. It it a nominal feature, every value has its own name without inner order to them. \n",
    "values are:  factory/commercial/education/office/residential.\n",
    "\n",
    "- District: A parameter to denote the district the observation was taken at. It is a nominal feature, there is no inner order to the district and we can call them by name.\n",
    "Values are: 1 to 8.   \n",
    "\n",
    "#### Numerical features:\n",
    "\n",
    "- Year:  The year that the observation was made at, this feature is continious because there is not finite value to years. \n",
    "\n",
    "- Size: The square size of a floor, it does not denotes the total size of a building only the square size of floor, it is a continious value because we can always measure a bigger floor size.\n",
    "\n",
    "- Elevation: The ground elevation at the building's location, it is a continious data type for the infinte range of its values.\n",
    "\n",
    "- Floors: This feature denotes the amount of floors in a observation building, because it represent the amount it is a numerical feature with a discrete value.\n",
    "\n",
    "- Built: A feature to denote the year the building was built, since its value is in years it is a continious feature like 'year' feature.\n",
    "\n",
    "- Tmp_min (minimum tempature): A feature to specify the minum tempature measure that was taken at this observation location, tempature can measured on a scale therefore it is a a continious feature type.\n",
    "\n",
    "- Tmp_max (maximum tempature): A feature to specify the maximum tempature measure that was taken at this observation location, tempature can measured on a scale therefore it is a a continious feature type.\n",
    "\n",
    "- Tmp_mean (mean tempature): A feature to specify the mean tempature measure that was taken at this observation location, its value will be between the min and max value, tempature can measured on a scale therefore it is a a continious feature type.\n",
    "\n",
    "- Cost: A feature to denote the cost of the observation (heating cost of a specific building on a month on some year), because we can measure different costs on a scale the feature is of type numerical continious.\n",
    "\n",
    "#### Target feature\n",
    "\n",
    "- Source: This feature is the target of the data set, by using this feature we can learn how to classify any new observation. It's of type categorical nominal feature. \n",
    "Values: gas, oil, electricity. "
   ],
   "cell_type": "markdown",
   "metadata": {}
  },
  {
   "source": [
    "### Overview on the data\n",
    "\n",
    "In order to review some meta data on the dataset that was given to me I will read the data using python pandas dataframe and present some minor analyses."
   ],
   "cell_type": "markdown",
   "metadata": {}
  },
  {
   "cell_type": "code",
   "execution_count": 3,
   "metadata": {},
   "outputs": [],
   "source": [
    "energy_df = pd.read_csv('energy_source3.csv')"
   ]
  },
  {
   "cell_type": "code",
   "execution_count": 26,
   "metadata": {},
   "outputs": [
    {
     "output_type": "stream",
     "name": "stdout",
     "text": [
      "Total number of observations:  36000 \n\nNumber of values for each feature in the dataset:\nmeasure      36000\nyear         36000\nmonth        36000\nsector       34595\nsize         35458\ndistrict     36000\nelevation    36000\nfloors       36000\nbuilt        36000\ntmp_min      36000\ntmp_mean     34575\ntmp_max      34649\ncost         35384\nsource       36000\ndtype: int64 \n\nFeature types represntation:\nmeasure        int64\nyear           int64\nmonth        float64\nsector        object\nsize         float64\ndistrict       int64\nelevation    float64\nfloors         int64\nbuilt          int64\ntmp_min      float64\ntmp_mean     float64\ntmp_max      float64\ncost         float64\nsource        object\ndtype: object\n"
     ]
    }
   ],
   "source": [
    "#Count of all observation\n",
    "print('Total number of observations: ' , len(energy_df.index),'\\n')\n",
    "\n",
    "#Count of every feature and number of total values\n",
    "print('Number of values for each feature in the dataset:')\n",
    "print(energy_df.count(),'\\n')\n",
    "\n",
    "\n",
    "#The different types of the dataframes\n",
    "print('Feature types represntation:')\n",
    "print(energy_df.dtypes)\n",
    "\n"
   ]
  },
  {
   "source": [
    "## Intro summarize\n",
    "\n",
    "After revewing the meta data of the Energy data set we can see that there is some data scrubing needs to be done.\n",
    "we can see that we have 3 categorical values , the 'sector' feature will need to have encoding from string value to integer. \n",
    "Dealing with missing values -  one of the main issues dealing with raw data is that it contains missing values,\n",
    "there are several types of missing values and many different approachs of dealing with it. \n",
    "Reviewing the data before start handling with it gives us a better prespective of it and can help us decide what to do with those values.\n",
    "We can see that there are some features with missing values, for each feature we will have to decide weather it is best to drop that entire observation or filling in the missing values with the mean/median value of the feature (if it is a numerical feature) or with mode value of the feature (if it a categorical feature).\n",
    "\n",
    "Other type of missing values is one where the data is filled with wrong values. \n",
    "from reviewing the data we can see that:\n",
    "-  month: has a value of 22 in some rows, that is not right because we have 12 months in a year.\n",
    "In the next chapter I will review other features that are candidte of having 'garbage' values.\n",
    "- for size (floor size) the values range is between 129 and 5947 which sounds like to much and needs to be examined.\n",
    "- for the tempature minimum, maximum and mean I will check if for any observation the mean is between min and max, and also that the min and max do not exceed each other.\n"
   ],
   "cell_type": "markdown",
   "metadata": {}
  },
  {
   "source": [],
   "cell_type": "markdown",
   "metadata": {}
  }
 ]
}